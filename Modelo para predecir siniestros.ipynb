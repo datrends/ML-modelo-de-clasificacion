{
 "cells": [
  {
   "cell_type": "markdown",
   "id": "a5f7d403",
   "metadata": {
    "papermill": {
     "duration": 0.047457,
     "end_time": "2021-08-10T14:53:24.712940",
     "exception": false,
     "start_time": "2021-08-10T14:53:24.665483",
     "status": "completed"
    },
    "tags": []
   },
   "source": [
    "# DEMO: Machine Learning para predecir siniestros"
   ]
  },
  {
   "cell_type": "markdown",
   "id": "cd6fb007",
   "metadata": {
    "papermill": {
     "duration": 0.046929,
     "end_time": "2021-08-10T14:53:24.805011",
     "exception": false,
     "start_time": "2021-08-10T14:53:24.758082",
     "status": "completed"
    },
    "tags": []
   },
   "source": [
    "# Librerías útiles"
   ]
  },
  {
   "cell_type": "code",
   "execution_count": 2,
   "id": "e8a8e722",
   "metadata": {
    "papermill": {
     "duration": 1.281816,
     "end_time": "2021-08-10T14:53:26.143988",
     "exception": false,
     "start_time": "2021-08-10T14:53:24.862172",
     "status": "completed"
    },
    "tags": []
   },
   "outputs": [],
   "source": [
    "import pandas as pd\n",
    "import numpy as np\n",
    "\n",
    "import matplotlib.pyplot as plt\n",
    "\n",
    "import seaborn as sns\n",
    "import scipy as sp\n",
    "from sklearn.preprocessing import LabelEncoder\n",
    "from sklearn.preprocessing import MinMaxScaler\n",
    "from sklearn.metrics import accuracy_score\n",
    "from sklearn.tree import DecisionTreeClassifier\n",
    "from sklearn.model_selection import train_test_split\n",
    "from sklearn.ensemble import RandomForestClassifier\n",
    "from sklearn.neighbors import KNeighborsClassifier\n",
    "from sklearn.linear_model import LogisticRegression\n",
    "from sklearn.svm import SVC\n",
    "from sklearn.tree import DecisionTreeClassifier\n",
    "from sklearn.naive_bayes import GaussianNB"
   ]
  },
  {
   "cell_type": "markdown",
   "id": "c4bdbbc1",
   "metadata": {
    "papermill": {
     "duration": 0.043612,
     "end_time": "2021-08-10T14:53:26.232286",
     "exception": false,
     "start_time": "2021-08-10T14:53:26.188674",
     "status": "completed"
    },
    "tags": []
   },
   "source": [
    "# Carga de Datos:"
   ]
  },
  {
   "cell_type": "code",
   "execution_count": 3,
   "id": "c66eee33",
   "metadata": {
    "papermill": {
     "duration": 0.105506,
     "end_time": "2021-08-10T14:53:26.381477",
     "exception": false,
     "start_time": "2021-08-10T14:53:26.275971",
     "status": "completed"
    },
    "tags": []
   },
   "outputs": [
    {
     "data": {
      "text/html": [
       "<div>\n",
       "<style scoped>\n",
       "    .dataframe tbody tr th:only-of-type {\n",
       "        vertical-align: middle;\n",
       "    }\n",
       "\n",
       "    .dataframe tbody tr th {\n",
       "        vertical-align: top;\n",
       "    }\n",
       "\n",
       "    .dataframe thead th {\n",
       "        text-align: right;\n",
       "    }\n",
       "</style>\n",
       "<table border=\"1\" class=\"dataframe\">\n",
       "  <thead>\n",
       "    <tr style=\"text-align: right;\">\n",
       "      <th></th>\n",
       "      <th>PassengerId</th>\n",
       "      <th>Survived</th>\n",
       "      <th>Pclass</th>\n",
       "      <th>Name</th>\n",
       "      <th>Sex</th>\n",
       "      <th>Age</th>\n",
       "      <th>SibSp</th>\n",
       "      <th>Parch</th>\n",
       "      <th>Ticket</th>\n",
       "      <th>Fare</th>\n",
       "      <th>Cabin</th>\n",
       "      <th>Embarked</th>\n",
       "    </tr>\n",
       "  </thead>\n",
       "  <tbody>\n",
       "    <tr>\n",
       "      <th>0</th>\n",
       "      <td>1</td>\n",
       "      <td>0.0</td>\n",
       "      <td>3</td>\n",
       "      <td>Braund, Mr. Owen Harris</td>\n",
       "      <td>male</td>\n",
       "      <td>22.0</td>\n",
       "      <td>1</td>\n",
       "      <td>0</td>\n",
       "      <td>A/5 21171</td>\n",
       "      <td>7.2500</td>\n",
       "      <td>NaN</td>\n",
       "      <td>S</td>\n",
       "    </tr>\n",
       "    <tr>\n",
       "      <th>1</th>\n",
       "      <td>2</td>\n",
       "      <td>1.0</td>\n",
       "      <td>1</td>\n",
       "      <td>Cumings, Mrs. John Bradley (Florence Briggs Th...</td>\n",
       "      <td>female</td>\n",
       "      <td>38.0</td>\n",
       "      <td>1</td>\n",
       "      <td>0</td>\n",
       "      <td>PC 17599</td>\n",
       "      <td>71.2833</td>\n",
       "      <td>C85</td>\n",
       "      <td>C</td>\n",
       "    </tr>\n",
       "    <tr>\n",
       "      <th>2</th>\n",
       "      <td>3</td>\n",
       "      <td>1.0</td>\n",
       "      <td>3</td>\n",
       "      <td>Heikkinen, Miss. Laina</td>\n",
       "      <td>female</td>\n",
       "      <td>26.0</td>\n",
       "      <td>0</td>\n",
       "      <td>0</td>\n",
       "      <td>STON/O2. 3101282</td>\n",
       "      <td>7.9250</td>\n",
       "      <td>NaN</td>\n",
       "      <td>S</td>\n",
       "    </tr>\n",
       "    <tr>\n",
       "      <th>3</th>\n",
       "      <td>4</td>\n",
       "      <td>1.0</td>\n",
       "      <td>1</td>\n",
       "      <td>Futrelle, Mrs. Jacques Heath (Lily May Peel)</td>\n",
       "      <td>female</td>\n",
       "      <td>35.0</td>\n",
       "      <td>1</td>\n",
       "      <td>0</td>\n",
       "      <td>113803</td>\n",
       "      <td>53.1000</td>\n",
       "      <td>C123</td>\n",
       "      <td>S</td>\n",
       "    </tr>\n",
       "    <tr>\n",
       "      <th>4</th>\n",
       "      <td>5</td>\n",
       "      <td>0.0</td>\n",
       "      <td>3</td>\n",
       "      <td>Allen, Mr. William Henry</td>\n",
       "      <td>male</td>\n",
       "      <td>35.0</td>\n",
       "      <td>0</td>\n",
       "      <td>0</td>\n",
       "      <td>373450</td>\n",
       "      <td>8.0500</td>\n",
       "      <td>NaN</td>\n",
       "      <td>S</td>\n",
       "    </tr>\n",
       "  </tbody>\n",
       "</table>\n",
       "</div>"
      ],
      "text/plain": [
       "   PassengerId  Survived  Pclass  \\\n",
       "0            1       0.0       3   \n",
       "1            2       1.0       1   \n",
       "2            3       1.0       3   \n",
       "3            4       1.0       1   \n",
       "4            5       0.0       3   \n",
       "\n",
       "                                                Name     Sex   Age  SibSp  \\\n",
       "0                            Braund, Mr. Owen Harris    male  22.0      1   \n",
       "1  Cumings, Mrs. John Bradley (Florence Briggs Th...  female  38.0      1   \n",
       "2                             Heikkinen, Miss. Laina  female  26.0      0   \n",
       "3       Futrelle, Mrs. Jacques Heath (Lily May Peel)  female  35.0      1   \n",
       "4                           Allen, Mr. William Henry    male  35.0      0   \n",
       "\n",
       "   Parch            Ticket     Fare Cabin Embarked  \n",
       "0      0         A/5 21171   7.2500   NaN        S  \n",
       "1      0          PC 17599  71.2833   C85        C  \n",
       "2      0  STON/O2. 3101282   7.9250   NaN        S  \n",
       "3      0            113803  53.1000  C123        S  \n",
       "4      0            373450   8.0500   NaN        S  "
      ]
     },
     "execution_count": 3,
     "metadata": {},
     "output_type": "execute_result"
    }
   ],
   "source": [
    "# Cargo el conjunto de datos de entrenamiento\n",
    "train = pd.read_csv('train.csv')\n",
    "\n",
    "# Cargo el conjunto de datos de prueba\n",
    "test = pd.read_csv('test.csv')\n",
    "\n",
    "# Concateno los dos conjuntos para realizar una exploración completa de los datos\n",
    "data = pd.concat([train,test], sort=False)\n",
    "\n",
    "# Muestro las primeras filas que componen el conjunto de datos\n",
    "data.head()"
   ]
  },
  {
   "cell_type": "code",
   "execution_count": 4,
   "id": "da61fbb9",
   "metadata": {
    "papermill": {
     "duration": 0.064173,
     "end_time": "2021-08-10T14:53:26.489875",
     "exception": false,
     "start_time": "2021-08-10T14:53:26.425702",
     "status": "completed"
    },
    "tags": []
   },
   "outputs": [
    {
     "data": {
      "text/html": [
       "<div>\n",
       "<style scoped>\n",
       "    .dataframe tbody tr th:only-of-type {\n",
       "        vertical-align: middle;\n",
       "    }\n",
       "\n",
       "    .dataframe tbody tr th {\n",
       "        vertical-align: top;\n",
       "    }\n",
       "\n",
       "    .dataframe thead th {\n",
       "        text-align: right;\n",
       "    }\n",
       "</style>\n",
       "<table border=\"1\" class=\"dataframe\">\n",
       "  <thead>\n",
       "    <tr style=\"text-align: right;\">\n",
       "      <th></th>\n",
       "      <th>PassengerId</th>\n",
       "      <th>Survived</th>\n",
       "      <th>Pclass</th>\n",
       "      <th>Name</th>\n",
       "      <th>Sex</th>\n",
       "      <th>Age</th>\n",
       "      <th>SibSp</th>\n",
       "      <th>Parch</th>\n",
       "      <th>Ticket</th>\n",
       "      <th>Fare</th>\n",
       "      <th>Cabin</th>\n",
       "      <th>Embarked</th>\n",
       "    </tr>\n",
       "  </thead>\n",
       "  <tbody>\n",
       "    <tr>\n",
       "      <th>413</th>\n",
       "      <td>1305</td>\n",
       "      <td>NaN</td>\n",
       "      <td>3</td>\n",
       "      <td>Spector, Mr. Woolf</td>\n",
       "      <td>male</td>\n",
       "      <td>NaN</td>\n",
       "      <td>0</td>\n",
       "      <td>0</td>\n",
       "      <td>A.5. 3236</td>\n",
       "      <td>8.0500</td>\n",
       "      <td>NaN</td>\n",
       "      <td>S</td>\n",
       "    </tr>\n",
       "    <tr>\n",
       "      <th>414</th>\n",
       "      <td>1306</td>\n",
       "      <td>NaN</td>\n",
       "      <td>1</td>\n",
       "      <td>Oliva y Ocana, Dona. Fermina</td>\n",
       "      <td>female</td>\n",
       "      <td>39.0</td>\n",
       "      <td>0</td>\n",
       "      <td>0</td>\n",
       "      <td>PC 17758</td>\n",
       "      <td>108.9000</td>\n",
       "      <td>C105</td>\n",
       "      <td>C</td>\n",
       "    </tr>\n",
       "    <tr>\n",
       "      <th>415</th>\n",
       "      <td>1307</td>\n",
       "      <td>NaN</td>\n",
       "      <td>3</td>\n",
       "      <td>Saether, Mr. Simon Sivertsen</td>\n",
       "      <td>male</td>\n",
       "      <td>38.5</td>\n",
       "      <td>0</td>\n",
       "      <td>0</td>\n",
       "      <td>SOTON/O.Q. 3101262</td>\n",
       "      <td>7.2500</td>\n",
       "      <td>NaN</td>\n",
       "      <td>S</td>\n",
       "    </tr>\n",
       "    <tr>\n",
       "      <th>416</th>\n",
       "      <td>1308</td>\n",
       "      <td>NaN</td>\n",
       "      <td>3</td>\n",
       "      <td>Ware, Mr. Frederick</td>\n",
       "      <td>male</td>\n",
       "      <td>NaN</td>\n",
       "      <td>0</td>\n",
       "      <td>0</td>\n",
       "      <td>359309</td>\n",
       "      <td>8.0500</td>\n",
       "      <td>NaN</td>\n",
       "      <td>S</td>\n",
       "    </tr>\n",
       "    <tr>\n",
       "      <th>417</th>\n",
       "      <td>1309</td>\n",
       "      <td>NaN</td>\n",
       "      <td>3</td>\n",
       "      <td>Peter, Master. Michael J</td>\n",
       "      <td>male</td>\n",
       "      <td>NaN</td>\n",
       "      <td>1</td>\n",
       "      <td>1</td>\n",
       "      <td>2668</td>\n",
       "      <td>22.3583</td>\n",
       "      <td>NaN</td>\n",
       "      <td>C</td>\n",
       "    </tr>\n",
       "  </tbody>\n",
       "</table>\n",
       "</div>"
      ],
      "text/plain": [
       "     PassengerId  Survived  Pclass                          Name     Sex  \\\n",
       "413         1305       NaN       3            Spector, Mr. Woolf    male   \n",
       "414         1306       NaN       1  Oliva y Ocana, Dona. Fermina  female   \n",
       "415         1307       NaN       3  Saether, Mr. Simon Sivertsen    male   \n",
       "416         1308       NaN       3           Ware, Mr. Frederick    male   \n",
       "417         1309       NaN       3      Peter, Master. Michael J    male   \n",
       "\n",
       "      Age  SibSp  Parch              Ticket      Fare Cabin Embarked  \n",
       "413   NaN      0      0           A.5. 3236    8.0500   NaN        S  \n",
       "414  39.0      0      0            PC 17758  108.9000  C105        C  \n",
       "415  38.5      0      0  SOTON/O.Q. 3101262    7.2500   NaN        S  \n",
       "416   NaN      0      0              359309    8.0500   NaN        S  \n",
       "417   NaN      1      1                2668   22.3583   NaN        C  "
      ]
     },
     "execution_count": 4,
     "metadata": {},
     "output_type": "execute_result"
    }
   ],
   "source": [
    "# Muestro las últimas filas que componen el conjunto de datos\n",
    "data.tail()"
   ]
  },
  {
   "cell_type": "markdown",
   "id": "b57648a5",
   "metadata": {
    "papermill": {
     "duration": 0.048786,
     "end_time": "2021-08-10T14:53:26.584203",
     "exception": false,
     "start_time": "2021-08-10T14:53:26.535417",
     "status": "completed"
    },
    "tags": []
   },
   "source": [
    "# Análisis Exploratorio de Datos:"
   ]
  },
  {
   "cell_type": "code",
   "execution_count": 5,
   "id": "e99c62d2",
   "metadata": {
    "papermill": {
     "duration": 0.078952,
     "end_time": "2021-08-10T14:53:26.716021",
     "exception": false,
     "start_time": "2021-08-10T14:53:26.637069",
     "status": "completed"
    },
    "tags": []
   },
   "outputs": [
    {
     "name": "stdout",
     "output_type": "stream",
     "text": [
      "<class 'pandas.core.frame.DataFrame'>\n",
      "Int64Index: 1309 entries, 0 to 417\n",
      "Data columns (total 12 columns):\n",
      " #   Column       Non-Null Count  Dtype  \n",
      "---  ------       --------------  -----  \n",
      " 0   PassengerId  1309 non-null   int64  \n",
      " 1   Survived     891 non-null    float64\n",
      " 2   Pclass       1309 non-null   int64  \n",
      " 3   Name         1309 non-null   object \n",
      " 4   Sex          1309 non-null   object \n",
      " 5   Age          1046 non-null   float64\n",
      " 6   SibSp        1309 non-null   int64  \n",
      " 7   Parch        1309 non-null   int64  \n",
      " 8   Ticket       1309 non-null   object \n",
      " 9   Fare         1308 non-null   float64\n",
      " 10  Cabin        295 non-null    object \n",
      " 11  Embarked     1307 non-null   object \n",
      "dtypes: float64(3), int64(4), object(5)\n",
      "memory usage: 132.9+ KB\n"
     ]
    }
   ],
   "source": [
    "# Listo las columnas y valido sus tipos de datos para determinar cuales variables son cualitativas y cuales cuantitativas\n",
    "data.info()"
   ]
  },
  {
   "cell_type": "code",
   "execution_count": 6,
   "id": "19943340",
   "metadata": {
    "papermill": {
     "duration": 0.079867,
     "end_time": "2021-08-10T14:53:26.840824",
     "exception": false,
     "start_time": "2021-08-10T14:53:26.760957",
     "status": "completed"
    },
    "tags": []
   },
   "outputs": [
    {
     "data": {
      "text/html": [
       "<div>\n",
       "<style scoped>\n",
       "    .dataframe tbody tr th:only-of-type {\n",
       "        vertical-align: middle;\n",
       "    }\n",
       "\n",
       "    .dataframe tbody tr th {\n",
       "        vertical-align: top;\n",
       "    }\n",
       "\n",
       "    .dataframe thead th {\n",
       "        text-align: right;\n",
       "    }\n",
       "</style>\n",
       "<table border=\"1\" class=\"dataframe\">\n",
       "  <thead>\n",
       "    <tr style=\"text-align: right;\">\n",
       "      <th></th>\n",
       "      <th>PassengerId</th>\n",
       "      <th>Survived</th>\n",
       "      <th>Pclass</th>\n",
       "      <th>Age</th>\n",
       "      <th>SibSp</th>\n",
       "      <th>Parch</th>\n",
       "      <th>Fare</th>\n",
       "    </tr>\n",
       "  </thead>\n",
       "  <tbody>\n",
       "    <tr>\n",
       "      <th>count</th>\n",
       "      <td>1309.000000</td>\n",
       "      <td>891.000000</td>\n",
       "      <td>1309.000000</td>\n",
       "      <td>1046.000000</td>\n",
       "      <td>1309.000000</td>\n",
       "      <td>1309.000000</td>\n",
       "      <td>1308.000000</td>\n",
       "    </tr>\n",
       "    <tr>\n",
       "      <th>mean</th>\n",
       "      <td>655.000000</td>\n",
       "      <td>0.383838</td>\n",
       "      <td>2.294882</td>\n",
       "      <td>29.881138</td>\n",
       "      <td>0.498854</td>\n",
       "      <td>0.385027</td>\n",
       "      <td>33.295479</td>\n",
       "    </tr>\n",
       "    <tr>\n",
       "      <th>std</th>\n",
       "      <td>378.020061</td>\n",
       "      <td>0.486592</td>\n",
       "      <td>0.837836</td>\n",
       "      <td>14.413493</td>\n",
       "      <td>1.041658</td>\n",
       "      <td>0.865560</td>\n",
       "      <td>51.758668</td>\n",
       "    </tr>\n",
       "    <tr>\n",
       "      <th>min</th>\n",
       "      <td>1.000000</td>\n",
       "      <td>0.000000</td>\n",
       "      <td>1.000000</td>\n",
       "      <td>0.170000</td>\n",
       "      <td>0.000000</td>\n",
       "      <td>0.000000</td>\n",
       "      <td>0.000000</td>\n",
       "    </tr>\n",
       "    <tr>\n",
       "      <th>25%</th>\n",
       "      <td>328.000000</td>\n",
       "      <td>0.000000</td>\n",
       "      <td>2.000000</td>\n",
       "      <td>21.000000</td>\n",
       "      <td>0.000000</td>\n",
       "      <td>0.000000</td>\n",
       "      <td>7.895800</td>\n",
       "    </tr>\n",
       "    <tr>\n",
       "      <th>50%</th>\n",
       "      <td>655.000000</td>\n",
       "      <td>0.000000</td>\n",
       "      <td>3.000000</td>\n",
       "      <td>28.000000</td>\n",
       "      <td>0.000000</td>\n",
       "      <td>0.000000</td>\n",
       "      <td>14.454200</td>\n",
       "    </tr>\n",
       "    <tr>\n",
       "      <th>75%</th>\n",
       "      <td>982.000000</td>\n",
       "      <td>1.000000</td>\n",
       "      <td>3.000000</td>\n",
       "      <td>39.000000</td>\n",
       "      <td>1.000000</td>\n",
       "      <td>0.000000</td>\n",
       "      <td>31.275000</td>\n",
       "    </tr>\n",
       "    <tr>\n",
       "      <th>max</th>\n",
       "      <td>1309.000000</td>\n",
       "      <td>1.000000</td>\n",
       "      <td>3.000000</td>\n",
       "      <td>80.000000</td>\n",
       "      <td>8.000000</td>\n",
       "      <td>9.000000</td>\n",
       "      <td>512.329200</td>\n",
       "    </tr>\n",
       "  </tbody>\n",
       "</table>\n",
       "</div>"
      ],
      "text/plain": [
       "       PassengerId    Survived       Pclass          Age        SibSp  \\\n",
       "count  1309.000000  891.000000  1309.000000  1046.000000  1309.000000   \n",
       "mean    655.000000    0.383838     2.294882    29.881138     0.498854   \n",
       "std     378.020061    0.486592     0.837836    14.413493     1.041658   \n",
       "min       1.000000    0.000000     1.000000     0.170000     0.000000   \n",
       "25%     328.000000    0.000000     2.000000    21.000000     0.000000   \n",
       "50%     655.000000    0.000000     3.000000    28.000000     0.000000   \n",
       "75%     982.000000    1.000000     3.000000    39.000000     1.000000   \n",
       "max    1309.000000    1.000000     3.000000    80.000000     8.000000   \n",
       "\n",
       "             Parch         Fare  \n",
       "count  1309.000000  1308.000000  \n",
       "mean      0.385027    33.295479  \n",
       "std       0.865560    51.758668  \n",
       "min       0.000000     0.000000  \n",
       "25%       0.000000     7.895800  \n",
       "50%       0.000000    14.454200  \n",
       "75%       0.000000    31.275000  \n",
       "max       9.000000   512.329200  "
      ]
     },
     "execution_count": 6,
     "metadata": {},
     "output_type": "execute_result"
    }
   ],
   "source": [
    "# Hago un resumen estadístico muy básico de los datos\n",
    "data.describe()"
   ]
  },
  {
   "cell_type": "code",
   "execution_count": 49,
   "id": "354dd343",
   "metadata": {
    "papermill": {
     "duration": 0.545066,
     "end_time": "2021-08-10T14:53:27.431512",
     "exception": false,
     "start_time": "2021-08-10T14:53:26.886446",
     "status": "completed"
    },
    "tags": []
   },
   "outputs": [
    {
     "data": {
      "image/png": "[encoded data removed]",
      "text/plain": [
       "<Figure size 800x800 with 2 Axes>"
      ]
     },
     "metadata": {},
     "output_type": "display_data"
    }
   ],
   "source": [
    "# Construyo una matrix de correlación (usando el coeficiente de Pearson) \n",
    "# para determinar que variables cuantitativas tienen una mayor correlación lineal.\n",
    "# cfcte < 0 ... representa una correlación inversa, es decir, a mayor valor de la variable A le corresponde un menor valor de la variable B\n",
    "# cfte > 0 ... representa una correlación lineal, es decir, a mayor valor de la variable A le corresponde un mayor valor de la variable B\n",
    "features_numeric = ['Survived', 'Pclass', 'Age', 'SibSp', 'Parch', 'Fare']\n",
    "corr_0 = data[features_numeric].corr()\n",
    "plt.figure(figsize=(8,8))\n",
    "ax=sns.heatmap(corr_0, cbar = True,  square = True, annot=True, fmt= '.2f',annot_kws={'size': 15},\n",
    "           cmap= 'coolwarm')\n",
    "plt.xticks(rotation = 45)\n",
    "plt.yticks(rotation = 45)\n",
    "plt.show()"
   ]
  },
  {
   "cell_type": "markdown",
   "id": "c5001367",
   "metadata": {
    "papermill": {
     "duration": 0.048674,
     "end_time": "2021-08-10T14:53:27.528591",
     "exception": false,
     "start_time": "2021-08-10T14:53:27.479917",
     "status": "completed"
    },
    "tags": []
   },
   "source": [
    "# Visualización de variables"
   ]
  },
  {
   "cell_type": "markdown",
   "id": "4b789f3a",
   "metadata": {
    "papermill": {
     "duration": 0.048551,
     "end_time": "2021-08-10T14:53:27.625628",
     "exception": false,
     "start_time": "2021-08-10T14:53:27.577077",
     "status": "completed"
    },
    "tags": []
   },
   "source": [
    "## Survived"
   ]
  },
  {
   "cell_type": "code",
   "execution_count": 8,
   "id": "32383b65",
   "metadata": {
    "papermill": {
     "duration": 0.169088,
     "end_time": "2021-08-10T14:53:27.843585",
     "exception": false,
     "start_time": "2021-08-10T14:53:27.674497",
     "status": "completed"
    },
    "tags": []
   },
   "outputs": [
    {
     "data": {
      "text/plain": [
       "Text(0.5, 1.0, 'Supervivencia')"
      ]
     },
     "execution_count": 8,
     "metadata": {},
     "output_type": "execute_result"
    },
    {
     "data": {
      "image/png": "[encoded data removed]",
      "text/plain": [
       "<Figure size 640x480 with 1 Axes>"
      ]
     },
     "metadata": {},
     "output_type": "display_data"
    }
   ],
   "source": [
    "# Histograma de la variable objetivo --> Supervivencia (Survived)\n",
    "sns.countplot(data=train, x='Survived')\n",
    "plt.title('Supervivencia')"
   ]
  },
  {
   "cell_type": "code",
   "execution_count": 9,
   "id": "9abc3a7a",
   "metadata": {
    "papermill": {
     "duration": 0.057824,
     "end_time": "2021-08-10T14:53:27.949940",
     "exception": false,
     "start_time": "2021-08-10T14:53:27.892116",
     "status": "completed"
    },
    "tags": []
   },
   "outputs": [
    {
     "name": "stdout",
     "output_type": "stream",
     "text": [
      "Porcentaje de supervivencia: 38.38383838383838\n"
     ]
    }
   ],
   "source": [
    "# Porcentaje de supervivencia\n",
    "print('Porcentaje de supervivencia:',(train.Survived.sum()/train.Survived.count())*100)"
   ]
  },
  {
   "cell_type": "markdown",
   "id": "317512a7",
   "metadata": {
    "papermill": {
     "duration": 0.049117,
     "end_time": "2021-08-10T14:53:28.048154",
     "exception": false,
     "start_time": "2021-08-10T14:53:27.999037",
     "status": "completed"
    },
    "tags": []
   },
   "source": [
    "## Pclass"
   ]
  },
  {
   "cell_type": "code",
   "execution_count": 10,
   "id": "f5684ab2",
   "metadata": {
    "papermill": {
     "duration": 0.342116,
     "end_time": "2021-08-10T14:53:28.439429",
     "exception": false,
     "start_time": "2021-08-10T14:53:28.097313",
     "status": "completed"
    },
    "tags": []
   },
   "outputs": [
    {
     "data": {
      "text/plain": [
       "Text(0.5, 1.0, 'Supervivencia por Clase')"
      ]
     },
     "execution_count": 10,
     "metadata": {},
     "output_type": "execute_result"
    },
    {
     "data": {
      "image/png": "[encoded data removed]",
      "text/plain": [
       "<Figure size 640x480 with 1 Axes>"
      ]
     },
     "metadata": {},
     "output_type": "display_data"
    }
   ],
   "source": [
    "# Histograma de la supervivencia por tipo de clase\n",
    "sns.countplot(data=train, x='Survived', hue='Pclass')\n",
    "plt.title('Supervivencia por Clase')"
   ]
  },
  {
   "cell_type": "code",
   "execution_count": 11,
   "id": "553fcbe4",
   "metadata": {
    "papermill": {
     "duration": 0.066035,
     "end_time": "2021-08-10T14:53:28.555358",
     "exception": false,
     "start_time": "2021-08-10T14:53:28.489323",
     "status": "completed"
    },
    "tags": []
   },
   "outputs": [
    {
     "name": "stdout",
     "output_type": "stream",
     "text": [
      "Porcentaje de supervivencia Clase 1: 62.96296296296296\n",
      "Porcentaje de supervivencia Clase 2: 47.28260869565217\n",
      "Porcentaje de supervivencia Clase 3: 24.236252545824847\n"
     ]
    }
   ],
   "source": [
    "# Porcentaje de supervivencia por tipos de clase\n",
    "print('Porcentaje de supervivencia Clase 1:', (train[train.Pclass==1].Survived.sum()/train[train.Pclass==1].Survived.count())*100)\n",
    "print('Porcentaje de supervivencia Clase 2:', (train[train.Pclass==2].Survived.sum()/train[train.Pclass==2].Survived.count())*100)\n",
    "print('Porcentaje de supervivencia Clase 3:', (train[train.Pclass==3].Survived.sum()/train[train.Pclass==3].Survived.count())*100)"
   ]
  },
  {
   "cell_type": "markdown",
   "id": "fca0b89d",
   "metadata": {
    "papermill": {
     "duration": 0.048635,
     "end_time": "2021-08-10T14:53:28.655540",
     "exception": false,
     "start_time": "2021-08-10T14:53:28.606905",
     "status": "completed"
    },
    "tags": []
   },
   "source": [
    "## Sex"
   ]
  },
  {
   "cell_type": "code",
   "execution_count": 12,
   "id": "4e0afda1",
   "metadata": {
    "papermill": {
     "duration": 0.202005,
     "end_time": "2021-08-10T14:53:28.906613",
     "exception": false,
     "start_time": "2021-08-10T14:53:28.704608",
     "status": "completed"
    },
    "tags": []
   },
   "outputs": [
    {
     "data": {
      "text/plain": [
       "Text(0.5, 1.0, 'Supervivencia por Sex')"
      ]
     },
     "execution_count": 12,
     "metadata": {},
     "output_type": "execute_result"
    },
    {
     "data": {
      "image/png": "[encoded data removed]",
      "text/plain": [
       "<Figure size 640x480 with 1 Axes>"
      ]
     },
     "metadata": {},
     "output_type": "display_data"
    }
   ],
   "source": [
    "sns.countplot(data=train, x='Survived', hue='Sex')\n",
    "plt.title('Supervivencia por Sex') "
   ]
  },
  {
   "cell_type": "code",
   "execution_count": 13,
   "id": "12b4fd47",
   "metadata": {
    "papermill": {
     "duration": 0.065038,
     "end_time": "2021-08-10T14:53:29.024234",
     "exception": false,
     "start_time": "2021-08-10T14:53:28.959196",
     "status": "completed"
    },
    "tags": []
   },
   "outputs": [
    {
     "name": "stdout",
     "output_type": "stream",
     "text": [
      "Porcentaje de supervivencia Mujeres: 74.20382165605095\n",
      "Porcentaje de supervivencia Hombres: 18.890814558058924\n"
     ]
    }
   ],
   "source": [
    "#Porcentaje de supervivencia por Sexo\n",
    "print('Porcentaje de supervivencia Mujeres:', (train[train.Sex=='female'].Survived.sum()/train[train.Sex=='female'].Survived.count())*100)\n",
    "print('Porcentaje de supervivencia Hombres:', (train[train.Sex=='male'].Survived.sum()/train[train.Sex=='male'].Survived.count())*100)"
   ]
  },
  {
   "cell_type": "markdown",
   "id": "f0afa6a7",
   "metadata": {
    "papermill": {
     "duration": 0.050733,
     "end_time": "2021-08-10T14:53:29.124653",
     "exception": false,
     "start_time": "2021-08-10T14:53:29.073920",
     "status": "completed"
    },
    "tags": []
   },
   "source": [
    "## Age"
   ]
  },
  {
   "cell_type": "code",
   "execution_count": 15,
   "id": "9c380989",
   "metadata": {
    "papermill": {
     "duration": 0.350925,
     "end_time": "2021-08-10T14:53:29.526462",
     "exception": false,
     "start_time": "2021-08-10T14:53:29.175537",
     "status": "completed"
    },
    "tags": []
   },
   "outputs": [
    {
     "data": {
      "image/png": "[encoded data removed]",
      "text/plain": [
       "<Figure size 600x400 with 1 Axes>"
      ]
     },
     "metadata": {},
     "output_type": "display_data"
    }
   ],
   "source": [
    "# Distribución la supervivencia según la edad\n",
    "plt.subplots(figsize=(6,4))\n",
    "\n",
    "ax=sns.kdeplot(train.loc[(train['Survived'] == 0),'Age'],color='blue',fill=True, label='Non-Survived')\n",
    "ax=sns.kdeplot(train.loc[(train['Survived'] == 1),'Age'],color='orange',fill=True, label='Survived')\n",
    "plt.title('Distribución de la Edad según Supervivencia')\n",
    "plt.ylabel('Frecuencia')\n",
    "plt.xlabel('Age')\n",
    "plt.legend(loc=\"upper right\")\n",
    "plt.show()"
   ]
  },
  {
   "cell_type": "code",
   "execution_count": 16,
   "id": "5dace872",
   "metadata": {
    "papermill": {
     "duration": 0.062799,
     "end_time": "2021-08-10T14:53:29.640375",
     "exception": false,
     "start_time": "2021-08-10T14:53:29.577576",
     "status": "completed"
    },
    "tags": []
   },
   "outputs": [],
   "source": [
    "# Agrego una nueva variable a los datos_ creando rangos para las edades.\n",
    "bins = [ 0, 5, 12, 18, 25, 35, 60, np.inf]\n",
    "labels = ['0-5', '6-12', '13-18', '19-25', '26-35', '36-60', '61-80']\n",
    "train['AgeGroup'] = pd.cut(train[\"Age\"], bins, labels = labels)"
   ]
  },
  {
   "cell_type": "code",
   "execution_count": 17,
   "id": "856565a4",
   "metadata": {
    "papermill": {
     "duration": 0.27893,
     "end_time": "2021-08-10T14:53:29.971465",
     "exception": false,
     "start_time": "2021-08-10T14:53:29.692535",
     "status": "completed"
    },
    "tags": []
   },
   "outputs": [
    {
     "data": {
      "text/plain": [
       "Text(0.5, 1.0, 'Supervivencia por Rango de Edad')"
      ]
     },
     "execution_count": 17,
     "metadata": {},
     "output_type": "execute_result"
    },
    {
     "data": {
      "image/png": "[encoded data removed]",
      "text/plain": [
       "<Figure size 640x480 with 1 Axes>"
      ]
     },
     "metadata": {},
     "output_type": "display_data"
    }
   ],
   "source": [
    "# Distribución de la supervivencia por rango de edad\n",
    "sns.countplot(data=train, x='AgeGroup', hue='Survived')\n",
    "plt.title('Supervivencia por Rango de Edad')"
   ]
  },
  {
   "cell_type": "code",
   "execution_count": 18,
   "id": "432e69fc",
   "metadata": {
    "papermill": {
     "duration": 0.083715,
     "end_time": "2021-08-10T14:53:30.108791",
     "exception": false,
     "start_time": "2021-08-10T14:53:30.025076",
     "status": "completed"
    },
    "tags": []
   },
   "outputs": [
    {
     "name": "stdout",
     "output_type": "stream",
     "text": [
      "Porcentaje de supervivencia   0-5 años: 70.45454545454545\n",
      "Porcentaje de supervivencia  5-12 años: 36.0\n",
      "Porcentaje de supervivencia 12-18 años: 42.857142857142854\n",
      "Porcentaje de supervivencia 18-25 años: 33.33333333333333\n",
      "Porcentaje de supervivencia 25-35 años: 42.3469387755102\n",
      "Porcentaje de supervivencia 35-60 años: 40.0\n",
      "Porcentaje de supervivencia 60-80 años: 22.727272727272727\n"
     ]
    }
   ],
   "source": [
    "# Porcentaje de supervivencia por Rango de Edad\n",
    "print('Porcentaje de supervivencia   0-5 años:', (train[train.AgeGroup=='0-5'].Survived.sum()/train[train.AgeGroup=='0-5'].Survived.count())*100)\n",
    "print('Porcentaje de supervivencia  5-12 años:', (train[train.AgeGroup=='6-12'].Survived.sum()/train[train.AgeGroup=='6-12'].Survived.count())*100)\n",
    "print('Porcentaje de supervivencia 12-18 años:', (train[train.AgeGroup=='13-18'].Survived.sum()/train[train.AgeGroup=='13-18'].Survived.count())*100)\n",
    "print('Porcentaje de supervivencia 18-25 años:', (train[train.AgeGroup=='19-25'].Survived.sum()/train[train.AgeGroup=='19-25'].Survived.count())*100)\n",
    "print('Porcentaje de supervivencia 25-35 años:', (train[train.AgeGroup=='26-35'].Survived.sum()/train[train.AgeGroup=='26-35'].Survived.count())*100)\n",
    "print('Porcentaje de supervivencia 35-60 años:', (train[train.AgeGroup=='36-60'].Survived.sum()/train[train.AgeGroup=='36-60'].Survived.count())*100)\n",
    "print('Porcentaje de supervivencia 60-80 años:', (train[train.AgeGroup=='61-80'].Survived.sum()/train[train.AgeGroup=='61-80'].Survived.count())*100)"
   ]
  },
  {
   "cell_type": "markdown",
   "id": "282b005f",
   "metadata": {
    "papermill": {
     "duration": 0.054602,
     "end_time": "2021-08-10T14:53:30.218806",
     "exception": false,
     "start_time": "2021-08-10T14:53:30.164204",
     "status": "completed"
    },
    "tags": []
   },
   "source": [
    "## SibSp & Parch"
   ]
  },
  {
   "cell_type": "code",
   "execution_count": 20,
   "id": "4c548e99",
   "metadata": {
    "papermill": {
     "duration": 0.35506,
     "end_time": "2021-08-10T14:53:30.626039",
     "exception": false,
     "start_time": "2021-08-10T14:53:30.270979",
     "status": "completed"
    },
    "tags": []
   },
   "outputs": [
    {
     "data": {
      "image/png": "[encoded data removed]",
      "text/plain": [
       "<Figure size 1200x400 with 2 Axes>"
      ]
     },
     "metadata": {},
     "output_type": "display_data"
    }
   ],
   "source": [
    "fig, (ax1,ax2)= plt.subplots(1,2,figsize=(12,4))\n",
    "\n",
    "ax1=sns.barplot(x=\"SibSp\", y=\"Survived\", data=train, errorbar=None, ax=  ax1)\n",
    "ax1.set_title('Supervivencia según Cantidad de hermanos/conyuge')\n",
    "\n",
    "ax2=sns.barplot(x=\"Parch\", y=\"Survived\", data=train, errorbar=None, ax=  ax2)\n",
    "ax2.set_title('Supervivencia según Cantidad de padres/hijos')\n",
    "\n",
    "plt.tight_layout()\n",
    "plt.show()"
   ]
  },
  {
   "cell_type": "markdown",
   "id": "5f3fe78b",
   "metadata": {
    "papermill": {
     "duration": 0.053838,
     "end_time": "2021-08-10T14:53:30.734252",
     "exception": false,
     "start_time": "2021-08-10T14:53:30.680414",
     "status": "completed"
    },
    "tags": []
   },
   "source": [
    "## Fare"
   ]
  },
  {
   "cell_type": "code",
   "execution_count": 22,
   "id": "af7da13a",
   "metadata": {
    "papermill": {
     "duration": 0.244232,
     "end_time": "2021-08-10T14:53:31.031884",
     "exception": false,
     "start_time": "2021-08-10T14:53:30.787652",
     "status": "completed"
    },
    "tags": []
   },
   "outputs": [
    {
     "data": {
      "image/png": "[encoded data removed]",
      "text/plain": [
       "<Figure size 800x600 with 1 Axes>"
      ]
     },
     "metadata": {},
     "output_type": "display_data"
    }
   ],
   "source": [
    "# Distribución de la supervivencia según la tarifa del ticket\n",
    "# Nota: Menor dispersión de los datos.\n",
    "plt.subplots(figsize=(8,6))\n",
    "\n",
    "ax=sns.kdeplot(train.loc[(train['Survived'] == 0),'Fare'],color='blue',fill=True, label='Non-Survived')\n",
    "ax=sns.kdeplot(train.loc[(train['Survived'] == 1),'Fare'],color='orange',fill=True, label='Survived')\n",
    "plt.title('Distribución de la Tarifa según Supervivencia')\n",
    "plt.ylabel('Frecuencia')\n",
    "plt.xlabel('Fare')\n",
    "plt.legend(loc=\"upper right\")\n",
    "plt.show()"
   ]
  },
  {
   "cell_type": "code",
   "execution_count": 23,
   "id": "6f2f3573",
   "metadata": {
    "papermill": {
     "duration": 0.501404,
     "end_time": "2021-08-10T14:53:31.587857",
     "exception": false,
     "start_time": "2021-08-10T14:53:31.086453",
     "status": "completed"
    },
    "tags": []
   },
   "outputs": [
    {
     "data": {
      "text/plain": [
       "Text(0.5, 1.0, 'Supervivencia según tarifa y clase')"
      ]
     },
     "execution_count": 23,
     "metadata": {},
     "output_type": "execute_result"
    },
    {
     "data": {
      "image/png": "[encoded data removed]",
      "text/plain": [
       "<Figure size 572.111x500 with 1 Axes>"
      ]
     },
     "metadata": {},
     "output_type": "display_data"
    }
   ],
   "source": [
    "# Supervivencia según tarifa y clase (gráfico bi-variado)\n",
    "sns.catplot(x=\"Pclass\", y=\"Fare\",hue='Survived', kind=\"bar\", data=train)\n",
    "plt.title('Supervivencia según tarifa y clase')"
   ]
  },
  {
   "cell_type": "markdown",
   "id": "d6beb5db",
   "metadata": {
    "papermill": {
     "duration": 0.055056,
     "end_time": "2021-08-10T14:53:31.698908",
     "exception": false,
     "start_time": "2021-08-10T14:53:31.643852",
     "status": "completed"
    },
    "tags": []
   },
   "source": [
    "## Embarked"
   ]
  },
  {
   "cell_type": "code",
   "execution_count": 24,
   "id": "7edc009e",
   "metadata": {
    "papermill": {
     "duration": 0.241596,
     "end_time": "2021-08-10T14:53:31.996709",
     "exception": false,
     "start_time": "2021-08-10T14:53:31.755113",
     "status": "completed"
    },
    "tags": []
   },
   "outputs": [
    {
     "data": {
      "text/plain": [
       "Text(0.5, 1.0, 'Supervivencia según Puerto de Embarque')"
      ]
     },
     "execution_count": 24,
     "metadata": {},
     "output_type": "execute_result"
    },
    {
     "data": {
      "image/png": "[encoded data removed]",
      "text/plain": [
       "<Figure size 640x480 with 1 Axes>"
      ]
     },
     "metadata": {},
     "output_type": "display_data"
    }
   ],
   "source": [
    "sns.countplot(data=train, x='Embarked', hue='Survived')\n",
    "plt.title('Supervivencia según Puerto de Embarque')"
   ]
  },
  {
   "cell_type": "code",
   "execution_count": 25,
   "id": "f960a251",
   "metadata": {
    "papermill": {
     "duration": 0.075684,
     "end_time": "2021-08-10T14:53:32.130299",
     "exception": false,
     "start_time": "2021-08-10T14:53:32.054615",
     "status": "completed"
    },
    "tags": []
   },
   "outputs": [
    {
     "name": "stdout",
     "output_type": "stream",
     "text": [
      "Porcentaje de supervivencia puerto Southampton: 33.69565217391305\n",
      "Porcentaje de supervivencia puerto Cherburgo:   55.35714285714286\n",
      "Porcentaje de supervivencia puerto Queenstown:  38.961038961038966\n"
     ]
    }
   ],
   "source": [
    "print('Porcentaje de supervivencia puerto Southampton:', (train[train.Embarked=='S'].Survived.sum()/train[train.Embarked=='S'].Survived.count())*100)\n",
    "print('Porcentaje de supervivencia puerto Cherburgo:  ', (train[train.Embarked=='C'].Survived.sum()/train[train.Embarked=='C'].Survived.count())*100)\n",
    "print('Porcentaje de supervivencia puerto Queenstown: ', (train[train.Embarked=='Q'].Survived.sum()/train[train.Embarked=='Q'].Survived.count())*100)"
   ]
  },
  {
   "cell_type": "markdown",
   "id": "ac672e64",
   "metadata": {
    "papermill": {
     "duration": 0.055243,
     "end_time": "2021-08-10T14:53:32.242720",
     "exception": false,
     "start_time": "2021-08-10T14:53:32.187477",
     "status": "completed"
    },
    "tags": []
   },
   "source": [
    "### Observaciones:\n",
    "   - La clase con mayor supervivencia fue Pclass=1, y con menor supervivencia Pclass=3.\n",
    "   - La tasa de supervivencia de las mujeres fue mayor a la de hombres.\n",
    "   - Los infantes cuya edad sea menor o igual a 5 años tienen mayores probabilidades de sobrevivir\n",
    "   - El puerto de embarque no parece tener relación directa con la supervivencia.\n",
    "   - Los pasajeros que pagaban tarifas más altas, tenían mayor probabilidad de supervivencia.\n",
    "   - Los pasajeros con familia no tan numerosa tienen mayores probabilidades de sobrevivir"
   ]
  },
  {
   "cell_type": "markdown",
   "id": "3a3c7f2f",
   "metadata": {
    "papermill": {
     "duration": 0.058781,
     "end_time": "2021-08-10T14:53:32.591237",
     "exception": false,
     "start_time": "2021-08-10T14:53:32.532456",
     "status": "completed"
    },
    "tags": []
   },
   "source": [
    "# Corrección a los datos de entrenamiento"
   ]
  },
  {
   "cell_type": "markdown",
   "id": "077b182f-787b-4f8c-877c-1cd9d33d36a2",
   "metadata": {},
   "source": [
    "Teniendo en cuenta la anterior exploración en los datos, listo las columnas de las que se compone el conjunto de entrenamiento:"
   ]
  },
  {
   "cell_type": "code",
   "execution_count": 26,
   "id": "fb1b99a6",
   "metadata": {
    "papermill": {
     "duration": 0.066629,
     "end_time": "2021-08-10T14:53:32.716104",
     "exception": false,
     "start_time": "2021-08-10T14:53:32.649475",
     "status": "completed"
    },
    "tags": []
   },
   "outputs": [
    {
     "data": {
      "text/plain": [
       "Index(['PassengerId', 'Survived', 'Pclass', 'Name', 'Sex', 'Age', 'SibSp',\n",
       "       'Parch', 'Ticket', 'Fare', 'Cabin', 'Embarked'],\n",
       "      dtype='object')"
      ]
     },
     "execution_count": 26,
     "metadata": {},
     "output_type": "execute_result"
    }
   ],
   "source": [
    "data.columns"
   ]
  },
  {
   "cell_type": "markdown",
   "id": "4b6334a7",
   "metadata": {
    "papermill": {
     "duration": 0.057003,
     "end_time": "2021-08-10T14:53:32.830374",
     "exception": false,
     "start_time": "2021-08-10T14:53:32.773371",
     "status": "completed"
    },
    "tags": []
   },
   "source": [
    "## Datos incompletos"
   ]
  },
  {
   "cell_type": "markdown",
   "id": "39261856-97c0-40b6-ba2c-0d7d47e0cb08",
   "metadata": {},
   "source": [
    "Realizo una exploración sobre los atributos del conjuto para determinar cuales de ellos contienen demasiados valores nulos. Sólo conservaremos aquellos atributos cuyos datos no excedan el 30% de las filas con valores vacios/nulos."
   ]
  },
  {
   "cell_type": "code",
   "execution_count": 27,
   "id": "0520fa16",
   "metadata": {
    "papermill": {
     "duration": 0.07035,
     "end_time": "2021-08-10T14:53:32.959789",
     "exception": false,
     "start_time": "2021-08-10T14:53:32.889439",
     "status": "completed"
    },
    "tags": []
   },
   "outputs": [
    {
     "name": "stdout",
     "output_type": "stream",
     "text": [
      "% Porcentaje de valores nulos...\n",
      "PassengerId     0.000000\n",
      "Survived       31.932773\n",
      "Pclass          0.000000\n",
      "Name            0.000000\n",
      "Sex             0.000000\n",
      "Age            20.091673\n",
      "SibSp           0.000000\n",
      "Parch           0.000000\n",
      "Ticket          0.000000\n",
      "Fare            0.076394\n",
      "Cabin          77.463713\n",
      "Embarked        0.152788\n",
      "dtype: float64\n"
     ]
    }
   ],
   "source": [
    "print('% Porcentaje de valores nulos...')\n",
    "nulls = data.isna().sum()\n",
    "print((nulls/data['PassengerId'].count())*100)"
   ]
  },
  {
   "cell_type": "markdown",
   "id": "6367b7bb",
   "metadata": {
    "papermill": {
     "duration": 0.057758,
     "end_time": "2021-08-10T14:53:33.076832",
     "exception": false,
     "start_time": "2021-08-10T14:53:33.019074",
     "status": "completed"
    },
    "tags": []
   },
   "source": [
    "Conservaré la variable 'Survived' dado que sus valores faltantes corresponden a filas del conjunto de prueba y por tanto se requeriran para las instancias a predecir.\n",
    "\n",
    "Se elimina la variable 'Cabin' ya que posee un porcentaje elevado de valores faltantes y supera el criterio de calidad establecido para el conjunto de entrenamiento. \n",
    "\n",
    "Intentar una corrección en los datos agregaría un sesgo a los datos."
   ]
  },
  {
   "cell_type": "code",
   "execution_count": 28,
   "id": "019c19a5",
   "metadata": {
    "papermill": {
     "duration": 0.091429,
     "end_time": "2021-08-10T14:53:33.225631",
     "exception": false,
     "start_time": "2021-08-10T14:53:33.134202",
     "status": "completed"
    },
    "tags": []
   },
   "outputs": [
    {
     "data": {
      "text/plain": [
       "Index(['PassengerId', 'Survived', 'Pclass', 'Name', 'Sex', 'Age', 'SibSp',\n",
       "       'Parch', 'Ticket', 'Fare', 'Embarked'],\n",
       "      dtype='object')"
      ]
     },
     "execution_count": 28,
     "metadata": {},
     "output_type": "execute_result"
    }
   ],
   "source": [
    "#Elimino la variable Cabin por la cantidad de valores faltantes\n",
    "data.drop(columns='Cabin', inplace=True, axis=1 )\n",
    "\n",
    "data.columns"
   ]
  },
  {
   "cell_type": "markdown",
   "id": "5d1efe3c-fb18-4349-8f00-bcbbfd571892",
   "metadata": {},
   "source": [
    "Se realiza una corrección a los valores nulos de las variables Age y Fare con la media, y los de la variables Embarked con la moda. Se establece este criterio de corrección para no afectar la distribución de los datos."
   ]
  },
  {
   "cell_type": "code",
   "execution_count": 29,
   "id": "4eb29fe0-5e94-42dd-8de3-b85098aa6aef",
   "metadata": {},
   "outputs": [],
   "source": [
    "#Imputo los datos faltantes en Age y Fare con la media, y en Embarked con la moda\n",
    "data['Age'].fillna((data['Age'].mean()), inplace=True)\n",
    "data['Fare'].fillna((data['Fare'].mean()), inplace=True)\n",
    "data['Embarked'].fillna(data['Embarked'].mode()[0],inplace=True)"
   ]
  },
  {
   "cell_type": "code",
   "execution_count": 30,
   "id": "aa6a15ce",
   "metadata": {
    "papermill": {
     "duration": 0.069853,
     "end_time": "2021-08-10T14:53:33.352720",
     "exception": false,
     "start_time": "2021-08-10T14:53:33.282867",
     "status": "completed"
    },
    "tags": []
   },
   "outputs": [
    {
     "data": {
      "text/plain": [
       "PassengerId      0\n",
       "Survived       418\n",
       "Pclass           0\n",
       "Name             0\n",
       "Sex              0\n",
       "Age              0\n",
       "SibSp            0\n",
       "Parch            0\n",
       "Ticket           0\n",
       "Fare             0\n",
       "Embarked         0\n",
       "dtype: int64"
      ]
     },
     "execution_count": 30,
     "metadata": {},
     "output_type": "execute_result"
    }
   ],
   "source": [
    "data.isna().sum()"
   ]
  },
  {
   "cell_type": "markdown",
   "id": "e0a491a6-f580-472c-99f3-e0012ed1a87e",
   "metadata": {},
   "source": [
    "## Atributos no relevantes"
   ]
  },
  {
   "cell_type": "markdown",
   "id": "a8fc847e",
   "metadata": {
    "papermill": {
     "duration": 0.058132,
     "end_time": "2021-08-10T14:53:32.471862",
     "exception": false,
     "start_time": "2021-08-10T14:53:32.413730",
     "status": "completed"
    },
    "tags": []
   },
   "source": [
    "Eliminaremos del conjunto de entrenamiento las siguientes variables que no aportan en la predicción por su naturaleza y pertinencia al caso predictivo y porque además representan valores únicos a nivel de fila. Conservamos sólo la variable 'PassengerId' que será la llave de identificación de la predicción relacionada a un pasajero:\n",
    "   * 'Ticket'"
   ]
  },
  {
   "cell_type": "code",
   "execution_count": 31,
   "id": "aa465c26-8f7f-40b8-8c12-22b30555c1f4",
   "metadata": {},
   "outputs": [
    {
     "data": {
      "text/plain": [
       "Index(['PassengerId', 'Survived', 'Pclass', 'Name', 'Sex', 'Age', 'SibSp',\n",
       "       'Parch', 'Fare', 'Embarked'],\n",
       "      dtype='object')"
      ]
     },
     "execution_count": 31,
     "metadata": {},
     "output_type": "execute_result"
    }
   ],
   "source": [
    "#Elimino la variable ticket porque su naturaleza de valor único no aporta en el ejercicio de predicción\n",
    "data.drop(columns=['Ticket'], inplace=True, axis=1 )\n",
    "\n",
    "data.columns"
   ]
  },
  {
   "cell_type": "markdown",
   "id": "09dd3a14",
   "metadata": {
    "papermill": {
     "duration": 0.06102,
     "end_time": "2021-08-10T14:53:33.474208",
     "exception": false,
     "start_time": "2021-08-10T14:53:33.413188",
     "status": "completed"
    },
    "tags": []
   },
   "source": [
    "## Generación de nuevas variables"
   ]
  },
  {
   "cell_type": "markdown",
   "id": "af5ead15",
   "metadata": {
    "papermill": {
     "duration": 0.058245,
     "end_time": "2021-08-10T14:53:33.739870",
     "exception": false,
     "start_time": "2021-08-10T14:53:33.681625",
     "status": "completed"
    },
    "tags": []
   },
   "source": [
    "La variable 'Name' aunque no aporta un valor único para cada instancia, sin embargo, el título asociado a la persona nos puede proporcionar información relevante. Por tanto, la covertiremos en una variable categórica."
   ]
  },
  {
   "cell_type": "code",
   "execution_count": 32,
   "id": "45f1270c",
   "metadata": {
    "papermill": {
     "duration": 0.081443,
     "end_time": "2021-08-10T14:53:33.883718",
     "exception": false,
     "start_time": "2021-08-10T14:53:33.802275",
     "status": "completed"
    },
    "tags": []
   },
   "outputs": [
    {
     "data": {
      "text/plain": [
       "Mr              757\n",
       "Miss            260\n",
       "Mrs             197\n",
       "Master           61\n",
       "Rev               8\n",
       "Dr                8\n",
       "Col               4\n",
       "Mlle              2\n",
       "Major             2\n",
       "Ms                2\n",
       "Lady              1\n",
       "Sir               1\n",
       "Mme               1\n",
       "Don               1\n",
       "Capt              1\n",
       "the Countess      1\n",
       "Jonkheer          1\n",
       "Dona              1\n",
       "Name: Title, dtype: int64"
      ]
     },
     "execution_count": 32,
     "metadata": {},
     "output_type": "execute_result"
    }
   ],
   "source": [
    "data['Title'] = data['Name'].str.split(', ').str[1].str.split('.').str[0]\n",
    "data.Title.value_counts()"
   ]
  },
  {
   "cell_type": "code",
   "execution_count": 33,
   "id": "57eb12ed",
   "metadata": {
    "papermill": {
     "duration": 0.077253,
     "end_time": "2021-08-10T14:53:34.021380",
     "exception": false,
     "start_time": "2021-08-10T14:53:33.944127",
     "status": "completed"
    },
    "tags": []
   },
   "outputs": [
    {
     "data": {
      "text/plain": [
       "Mr        783\n",
       "Miss      264\n",
       "Mrs       201\n",
       "Master     61\n",
       "Name: Title, dtype: int64"
      ]
     },
     "execution_count": 33,
     "metadata": {},
     "output_type": "execute_result"
    }
   ],
   "source": [
    "#Englobamos los títulos encontrados en sólo 4 principales\n",
    "dic={'Ms': 'Miss','Mlle': 'Miss', \n",
    "         'Mme': 'Mrs','Dona': 'Mrs','the Countess': 'Mrs','Lady': 'Mrs',\n",
    "             'Rev': 'Mr','Jonkheer': 'Mr','Dr': 'Mr','Capt': 'Mr','Don': 'Mr','Col': 'Mr','Major': 'Mr','Sir': 'Mr'}\n",
    "data.replace({'Title': dic}, inplace=True)\n",
    "data.Title.value_counts()"
   ]
  },
  {
   "cell_type": "markdown",
   "id": "86777fe3",
   "metadata": {
    "papermill": {
     "duration": 0.061231,
     "end_time": "2021-08-10T14:53:34.144123",
     "exception": false,
     "start_time": "2021-08-10T14:53:34.082892",
     "status": "completed"
    },
    "tags": []
   },
   "source": [
    "Podemos agrupar por rango de edades"
   ]
  },
  {
   "cell_type": "code",
   "execution_count": 34,
   "id": "c357a854",
   "metadata": {
    "papermill": {
     "duration": 0.071278,
     "end_time": "2021-08-10T14:53:34.275993",
     "exception": false,
     "start_time": "2021-08-10T14:53:34.204715",
     "status": "completed"
    },
    "tags": []
   },
   "outputs": [],
   "source": [
    "bins = [ 0, 5, 12, 18, 25, 35, 60, np.inf]\n",
    "labels = ['0-5', '6-12', '13-18', '19-25', '26-35', '36-60', '61-80']\n",
    "data['AgeGroup'] = pd.cut(data[\"Age\"], bins, labels = labels)"
   ]
  },
  {
   "cell_type": "markdown",
   "id": "b5810770",
   "metadata": {
    "papermill": {
     "duration": 0.061605,
     "end_time": "2021-08-10T14:53:34.398940",
     "exception": false,
     "start_time": "2021-08-10T14:53:34.337335",
     "status": "completed"
    },
    "tags": []
   },
   "source": [
    "Con las variables Sibpb y Parch podemos calcular el tamaño de la familia:"
   ]
  },
  {
   "cell_type": "code",
   "execution_count": 35,
   "id": "f2154f8d",
   "metadata": {
    "papermill": {
     "duration": 0.068696,
     "end_time": "2021-08-10T14:53:34.528563",
     "exception": false,
     "start_time": "2021-08-10T14:53:34.459867",
     "status": "completed"
    },
    "tags": []
   },
   "outputs": [],
   "source": [
    "data['FamilySize']=data['SibSp'] + data['Parch'] + 1"
   ]
  },
  {
   "cell_type": "code",
   "execution_count": 36,
   "id": "d8b097a2",
   "metadata": {
    "papermill": {
     "duration": 0.084246,
     "end_time": "2021-08-10T14:53:34.674123",
     "exception": false,
     "start_time": "2021-08-10T14:53:34.589877",
     "status": "completed"
    },
    "tags": []
   },
   "outputs": [
    {
     "data": {
      "text/html": [
       "<div>\n",
       "<style scoped>\n",
       "    .dataframe tbody tr th:only-of-type {\n",
       "        vertical-align: middle;\n",
       "    }\n",
       "\n",
       "    .dataframe tbody tr th {\n",
       "        vertical-align: top;\n",
       "    }\n",
       "\n",
       "    .dataframe thead th {\n",
       "        text-align: right;\n",
       "    }\n",
       "</style>\n",
       "<table border=\"1\" class=\"dataframe\">\n",
       "  <thead>\n",
       "    <tr style=\"text-align: right;\">\n",
       "      <th></th>\n",
       "      <th>PassengerId</th>\n",
       "      <th>Survived</th>\n",
       "      <th>Pclass</th>\n",
       "      <th>Sex</th>\n",
       "      <th>Age</th>\n",
       "      <th>SibSp</th>\n",
       "      <th>Parch</th>\n",
       "      <th>Fare</th>\n",
       "      <th>Embarked</th>\n",
       "      <th>Title</th>\n",
       "      <th>AgeGroup</th>\n",
       "      <th>FamilySize</th>\n",
       "    </tr>\n",
       "  </thead>\n",
       "  <tbody>\n",
       "    <tr>\n",
       "      <th>0</th>\n",
       "      <td>1</td>\n",
       "      <td>0.0</td>\n",
       "      <td>3</td>\n",
       "      <td>male</td>\n",
       "      <td>22.0</td>\n",
       "      <td>1</td>\n",
       "      <td>0</td>\n",
       "      <td>7.2500</td>\n",
       "      <td>S</td>\n",
       "      <td>Mr</td>\n",
       "      <td>19-25</td>\n",
       "      <td>2</td>\n",
       "    </tr>\n",
       "    <tr>\n",
       "      <th>1</th>\n",
       "      <td>2</td>\n",
       "      <td>1.0</td>\n",
       "      <td>1</td>\n",
       "      <td>female</td>\n",
       "      <td>38.0</td>\n",
       "      <td>1</td>\n",
       "      <td>0</td>\n",
       "      <td>71.2833</td>\n",
       "      <td>C</td>\n",
       "      <td>Mrs</td>\n",
       "      <td>36-60</td>\n",
       "      <td>2</td>\n",
       "    </tr>\n",
       "    <tr>\n",
       "      <th>2</th>\n",
       "      <td>3</td>\n",
       "      <td>1.0</td>\n",
       "      <td>3</td>\n",
       "      <td>female</td>\n",
       "      <td>26.0</td>\n",
       "      <td>0</td>\n",
       "      <td>0</td>\n",
       "      <td>7.9250</td>\n",
       "      <td>S</td>\n",
       "      <td>Miss</td>\n",
       "      <td>26-35</td>\n",
       "      <td>1</td>\n",
       "    </tr>\n",
       "    <tr>\n",
       "      <th>3</th>\n",
       "      <td>4</td>\n",
       "      <td>1.0</td>\n",
       "      <td>1</td>\n",
       "      <td>female</td>\n",
       "      <td>35.0</td>\n",
       "      <td>1</td>\n",
       "      <td>0</td>\n",
       "      <td>53.1000</td>\n",
       "      <td>S</td>\n",
       "      <td>Mrs</td>\n",
       "      <td>26-35</td>\n",
       "      <td>2</td>\n",
       "    </tr>\n",
       "    <tr>\n",
       "      <th>4</th>\n",
       "      <td>5</td>\n",
       "      <td>0.0</td>\n",
       "      <td>3</td>\n",
       "      <td>male</td>\n",
       "      <td>35.0</td>\n",
       "      <td>0</td>\n",
       "      <td>0</td>\n",
       "      <td>8.0500</td>\n",
       "      <td>S</td>\n",
       "      <td>Mr</td>\n",
       "      <td>26-35</td>\n",
       "      <td>1</td>\n",
       "    </tr>\n",
       "  </tbody>\n",
       "</table>\n",
       "</div>"
      ],
      "text/plain": [
       "   PassengerId  Survived  Pclass     Sex   Age  SibSp  Parch     Fare  \\\n",
       "0            1       0.0       3    male  22.0      1      0   7.2500   \n",
       "1            2       1.0       1  female  38.0      1      0  71.2833   \n",
       "2            3       1.0       3  female  26.0      0      0   7.9250   \n",
       "3            4       1.0       1  female  35.0      1      0  53.1000   \n",
       "4            5       0.0       3    male  35.0      0      0   8.0500   \n",
       "\n",
       "  Embarked Title AgeGroup  FamilySize  \n",
       "0        S    Mr    19-25           2  \n",
       "1        C   Mrs    36-60           2  \n",
       "2        S  Miss    26-35           1  \n",
       "3        S   Mrs    26-35           2  \n",
       "4        S    Mr    26-35           1  "
      ]
     },
     "execution_count": 36,
     "metadata": {},
     "output_type": "execute_result"
    }
   ],
   "source": [
    "data.drop(columns=['Name'], inplace=True, axis=1)\n",
    "data.head()"
   ]
  },
  {
   "cell_type": "markdown",
   "id": "cde37c57",
   "metadata": {},
   "source": [
    "## Encoding"
   ]
  },
  {
   "cell_type": "code",
   "execution_count": 37,
   "id": "57dd5df2",
   "metadata": {
    "papermill": {
     "duration": 0.07478,
     "end_time": "2021-08-10T14:53:34.934734",
     "exception": false,
     "start_time": "2021-08-10T14:53:34.859954",
     "status": "completed"
    },
    "tags": []
   },
   "outputs": [],
   "source": [
    "le = LabelEncoder()\n",
    "data['Sex'] = le.fit_transform(data['Sex'])\n",
    "data['Embarked'] = le.fit_transform(data['Embarked'])\n",
    "data['Title'] = le.fit_transform(data['Title'])\n",
    "data['AgeGroup']= le.fit_transform(data['AgeGroup'])\n"
   ]
  },
  {
   "cell_type": "code",
   "execution_count": 38,
   "id": "54ac1e7c",
   "metadata": {
    "papermill": {
     "duration": 0.072911,
     "end_time": "2021-08-10T14:53:35.069225",
     "exception": false,
     "start_time": "2021-08-10T14:53:34.996314",
     "status": "completed"
    },
    "tags": []
   },
   "outputs": [
    {
     "data": {
      "text/plain": [
       "PassengerId      0\n",
       "Survived       418\n",
       "Pclass           0\n",
       "Sex              0\n",
       "Age              0\n",
       "SibSp            0\n",
       "Parch            0\n",
       "Fare             0\n",
       "Embarked         0\n",
       "Title            0\n",
       "AgeGroup         0\n",
       "FamilySize       0\n",
       "dtype: int64"
      ]
     },
     "execution_count": 38,
     "metadata": {},
     "output_type": "execute_result"
    }
   ],
   "source": [
    "data.isna().sum()"
   ]
  },
  {
   "cell_type": "code",
   "execution_count": 39,
   "id": "ad6ec2cd",
   "metadata": {
    "papermill": {
     "duration": 0.089066,
     "end_time": "2021-08-10T14:53:35.222982",
     "exception": false,
     "start_time": "2021-08-10T14:53:35.133916",
     "status": "completed"
    },
    "tags": []
   },
   "outputs": [
    {
     "data": {
      "text/html": [
       "<div>\n",
       "<style scoped>\n",
       "    .dataframe tbody tr th:only-of-type {\n",
       "        vertical-align: middle;\n",
       "    }\n",
       "\n",
       "    .dataframe tbody tr th {\n",
       "        vertical-align: top;\n",
       "    }\n",
       "\n",
       "    .dataframe thead th {\n",
       "        text-align: right;\n",
       "    }\n",
       "</style>\n",
       "<table border=\"1\" class=\"dataframe\">\n",
       "  <thead>\n",
       "    <tr style=\"text-align: right;\">\n",
       "      <th></th>\n",
       "      <th>PassengerId</th>\n",
       "      <th>Survived</th>\n",
       "      <th>Pclass</th>\n",
       "      <th>Sex</th>\n",
       "      <th>Age</th>\n",
       "      <th>SibSp</th>\n",
       "      <th>Parch</th>\n",
       "      <th>Fare</th>\n",
       "      <th>Embarked</th>\n",
       "      <th>Title</th>\n",
       "      <th>AgeGroup</th>\n",
       "      <th>FamilySize</th>\n",
       "    </tr>\n",
       "  </thead>\n",
       "  <tbody>\n",
       "    <tr>\n",
       "      <th>0</th>\n",
       "      <td>1</td>\n",
       "      <td>0.0</td>\n",
       "      <td>3</td>\n",
       "      <td>1</td>\n",
       "      <td>22.000000</td>\n",
       "      <td>1</td>\n",
       "      <td>0</td>\n",
       "      <td>7.2500</td>\n",
       "      <td>2</td>\n",
       "      <td>2</td>\n",
       "      <td>2</td>\n",
       "      <td>2</td>\n",
       "    </tr>\n",
       "    <tr>\n",
       "      <th>1</th>\n",
       "      <td>2</td>\n",
       "      <td>1.0</td>\n",
       "      <td>1</td>\n",
       "      <td>0</td>\n",
       "      <td>38.000000</td>\n",
       "      <td>1</td>\n",
       "      <td>0</td>\n",
       "      <td>71.2833</td>\n",
       "      <td>0</td>\n",
       "      <td>3</td>\n",
       "      <td>4</td>\n",
       "      <td>2</td>\n",
       "    </tr>\n",
       "    <tr>\n",
       "      <th>2</th>\n",
       "      <td>3</td>\n",
       "      <td>1.0</td>\n",
       "      <td>3</td>\n",
       "      <td>0</td>\n",
       "      <td>26.000000</td>\n",
       "      <td>0</td>\n",
       "      <td>0</td>\n",
       "      <td>7.9250</td>\n",
       "      <td>2</td>\n",
       "      <td>1</td>\n",
       "      <td>3</td>\n",
       "      <td>1</td>\n",
       "    </tr>\n",
       "    <tr>\n",
       "      <th>3</th>\n",
       "      <td>4</td>\n",
       "      <td>1.0</td>\n",
       "      <td>1</td>\n",
       "      <td>0</td>\n",
       "      <td>35.000000</td>\n",
       "      <td>1</td>\n",
       "      <td>0</td>\n",
       "      <td>53.1000</td>\n",
       "      <td>2</td>\n",
       "      <td>3</td>\n",
       "      <td>3</td>\n",
       "      <td>2</td>\n",
       "    </tr>\n",
       "    <tr>\n",
       "      <th>4</th>\n",
       "      <td>5</td>\n",
       "      <td>0.0</td>\n",
       "      <td>3</td>\n",
       "      <td>1</td>\n",
       "      <td>35.000000</td>\n",
       "      <td>0</td>\n",
       "      <td>0</td>\n",
       "      <td>8.0500</td>\n",
       "      <td>2</td>\n",
       "      <td>2</td>\n",
       "      <td>3</td>\n",
       "      <td>1</td>\n",
       "    </tr>\n",
       "    <tr>\n",
       "      <th>...</th>\n",
       "      <td>...</td>\n",
       "      <td>...</td>\n",
       "      <td>...</td>\n",
       "      <td>...</td>\n",
       "      <td>...</td>\n",
       "      <td>...</td>\n",
       "      <td>...</td>\n",
       "      <td>...</td>\n",
       "      <td>...</td>\n",
       "      <td>...</td>\n",
       "      <td>...</td>\n",
       "      <td>...</td>\n",
       "    </tr>\n",
       "    <tr>\n",
       "      <th>413</th>\n",
       "      <td>1305</td>\n",
       "      <td>NaN</td>\n",
       "      <td>3</td>\n",
       "      <td>1</td>\n",
       "      <td>29.881138</td>\n",
       "      <td>0</td>\n",
       "      <td>0</td>\n",
       "      <td>8.0500</td>\n",
       "      <td>2</td>\n",
       "      <td>2</td>\n",
       "      <td>3</td>\n",
       "      <td>1</td>\n",
       "    </tr>\n",
       "    <tr>\n",
       "      <th>414</th>\n",
       "      <td>1306</td>\n",
       "      <td>NaN</td>\n",
       "      <td>1</td>\n",
       "      <td>0</td>\n",
       "      <td>39.000000</td>\n",
       "      <td>0</td>\n",
       "      <td>0</td>\n",
       "      <td>108.9000</td>\n",
       "      <td>0</td>\n",
       "      <td>3</td>\n",
       "      <td>4</td>\n",
       "      <td>1</td>\n",
       "    </tr>\n",
       "    <tr>\n",
       "      <th>415</th>\n",
       "      <td>1307</td>\n",
       "      <td>NaN</td>\n",
       "      <td>3</td>\n",
       "      <td>1</td>\n",
       "      <td>38.500000</td>\n",
       "      <td>0</td>\n",
       "      <td>0</td>\n",
       "      <td>7.2500</td>\n",
       "      <td>2</td>\n",
       "      <td>2</td>\n",
       "      <td>4</td>\n",
       "      <td>1</td>\n",
       "    </tr>\n",
       "    <tr>\n",
       "      <th>416</th>\n",
       "      <td>1308</td>\n",
       "      <td>NaN</td>\n",
       "      <td>3</td>\n",
       "      <td>1</td>\n",
       "      <td>29.881138</td>\n",
       "      <td>0</td>\n",
       "      <td>0</td>\n",
       "      <td>8.0500</td>\n",
       "      <td>2</td>\n",
       "      <td>2</td>\n",
       "      <td>3</td>\n",
       "      <td>1</td>\n",
       "    </tr>\n",
       "    <tr>\n",
       "      <th>417</th>\n",
       "      <td>1309</td>\n",
       "      <td>NaN</td>\n",
       "      <td>3</td>\n",
       "      <td>1</td>\n",
       "      <td>29.881138</td>\n",
       "      <td>1</td>\n",
       "      <td>1</td>\n",
       "      <td>22.3583</td>\n",
       "      <td>0</td>\n",
       "      <td>0</td>\n",
       "      <td>3</td>\n",
       "      <td>3</td>\n",
       "    </tr>\n",
       "  </tbody>\n",
       "</table>\n",
       "<p>1309 rows × 12 columns</p>\n",
       "</div>"
      ],
      "text/plain": [
       "     PassengerId  Survived  Pclass  Sex        Age  SibSp  Parch      Fare  \\\n",
       "0              1       0.0       3    1  22.000000      1      0    7.2500   \n",
       "1              2       1.0       1    0  38.000000      1      0   71.2833   \n",
       "2              3       1.0       3    0  26.000000      0      0    7.9250   \n",
       "3              4       1.0       1    0  35.000000      1      0   53.1000   \n",
       "4              5       0.0       3    1  35.000000      0      0    8.0500   \n",
       "..           ...       ...     ...  ...        ...    ...    ...       ...   \n",
       "413         1305       NaN       3    1  29.881138      0      0    8.0500   \n",
       "414         1306       NaN       1    0  39.000000      0      0  108.9000   \n",
       "415         1307       NaN       3    1  38.500000      0      0    7.2500   \n",
       "416         1308       NaN       3    1  29.881138      0      0    8.0500   \n",
       "417         1309       NaN       3    1  29.881138      1      1   22.3583   \n",
       "\n",
       "     Embarked  Title  AgeGroup  FamilySize  \n",
       "0           2      2         2           2  \n",
       "1           0      3         4           2  \n",
       "2           2      1         3           1  \n",
       "3           2      3         3           2  \n",
       "4           2      2         3           1  \n",
       "..        ...    ...       ...         ...  \n",
       "413         2      2         3           1  \n",
       "414         0      3         4           1  \n",
       "415         2      2         4           1  \n",
       "416         2      2         3           1  \n",
       "417         0      0         3           3  \n",
       "\n",
       "[1309 rows x 12 columns]"
      ]
     },
     "execution_count": 39,
     "metadata": {},
     "output_type": "execute_result"
    }
   ],
   "source": [
    "data"
   ]
  },
  {
   "cell_type": "markdown",
   "id": "52896b5a",
   "metadata": {
    "papermill": {
     "duration": 0.06372,
     "end_time": "2021-08-10T14:53:35.350886",
     "exception": false,
     "start_time": "2021-08-10T14:53:35.287166",
     "status": "completed"
    },
    "tags": []
   },
   "source": [
    "## Entrenamiento de modelos"
   ]
  },
  {
   "cell_type": "markdown",
   "id": "be48ad03",
   "metadata": {
    "papermill": {
     "duration": 0.062243,
     "end_time": "2021-08-10T14:53:35.475987",
     "exception": false,
     "start_time": "2021-08-10T14:53:35.413744",
     "status": "completed"
    },
    "tags": []
   },
   "source": [
    "Separamos de nuevo los conjuntos de entrenamiento y testeo"
   ]
  },
  {
   "cell_type": "code",
   "execution_count": 40,
   "id": "3ef616b9",
   "metadata": {
    "papermill": {
     "duration": 0.068989,
     "end_time": "2021-08-10T14:53:35.606643",
     "exception": false,
     "start_time": "2021-08-10T14:53:35.537654",
     "status": "completed"
    },
    "tags": []
   },
   "outputs": [],
   "source": [
    "ds_train = data.iloc[:891]\n",
    "ds_test = data.iloc[891:1310]"
   ]
  },
  {
   "cell_type": "code",
   "execution_count": 41,
   "id": "b7bc7400",
   "metadata": {
    "papermill": {
     "duration": 0.073595,
     "end_time": "2021-08-10T14:53:35.742411",
     "exception": false,
     "start_time": "2021-08-10T14:53:35.668816",
     "status": "completed"
    },
    "tags": []
   },
   "outputs": [],
   "source": [
    "#Genero subconjunto de train y test para medir el performance de los modelos\n",
    "features = ['Pclass', 'Sex', 'Age', 'SibSp', 'Parch', 'Fare', 'Embarked', 'Title', 'AgeGroup', 'FamilySize']\n",
    "X = ds_train[features]\n",
    "y = ds_train['Survived']\n",
    "X_train, X_test, y_train, y_test = train_test_split(X, y, test_size = 0.3, stratify = y, random_state=42)"
   ]
  },
  {
   "cell_type": "markdown",
   "id": "9008e5d5",
   "metadata": {
    "papermill": {
     "duration": 0.060803,
     "end_time": "2021-08-10T14:53:35.864333",
     "exception": false,
     "start_time": "2021-08-10T14:53:35.803530",
     "status": "completed"
    },
    "tags": []
   },
   "source": [
    "### Árbol de decisión"
   ]
  },
  {
   "cell_type": "code",
   "execution_count": 42,
   "id": "fa404722",
   "metadata": {
    "papermill": {
     "duration": 0.079248,
     "end_time": "2021-08-10T14:53:36.006350",
     "exception": false,
     "start_time": "2021-08-10T14:53:35.927102",
     "status": "completed"
    },
    "tags": []
   },
   "outputs": [
    {
     "name": "stdout",
     "output_type": "stream",
     "text": [
      "0.7649253731343284\n"
     ]
    }
   ],
   "source": [
    "tree=DecisionTreeClassifier(random_state=42)\n",
    "tree.fit(X_train, y_train)\n",
    "y_pred = tree.predict(X_test)\n",
    "print(accuracy_score(y_test,y_pred))"
   ]
  },
  {
   "cell_type": "markdown",
   "id": "122fe0db",
   "metadata": {
    "papermill": {
     "duration": 0.062244,
     "end_time": "2021-08-10T14:53:36.132088",
     "exception": false,
     "start_time": "2021-08-10T14:53:36.069844",
     "status": "completed"
    },
    "tags": []
   },
   "source": [
    "### Random Forest"
   ]
  },
  {
   "cell_type": "code",
   "execution_count": 43,
   "id": "f1b42985",
   "metadata": {
    "papermill": {
     "duration": 0.278014,
     "end_time": "2021-08-10T14:53:36.473002",
     "exception": false,
     "start_time": "2021-08-10T14:53:36.194988",
     "status": "completed"
    },
    "tags": []
   },
   "outputs": [
    {
     "name": "stdout",
     "output_type": "stream",
     "text": [
      "0.8208955223880597\n"
     ]
    }
   ],
   "source": [
    "rf = RandomForestClassifier(n_estimators=100, max_depth=5, random_state=1)\n",
    "rf.fit(X_train, y_train)\n",
    "y_pred = rf.predict(X_test)\n",
    "print(accuracy_score(y_test,y_pred))"
   ]
  },
  {
   "cell_type": "markdown",
   "id": "5f1f9dd0",
   "metadata": {
    "papermill": {
     "duration": 0.063212,
     "end_time": "2021-08-10T14:53:36.598716",
     "exception": false,
     "start_time": "2021-08-10T14:53:36.535504",
     "status": "completed"
    },
    "tags": []
   },
   "source": [
    "### Vecinos más cercanos"
   ]
  },
  {
   "cell_type": "code",
   "execution_count": 44,
   "id": "0595be05",
   "metadata": {
    "papermill": {
     "duration": 0.088205,
     "end_time": "2021-08-10T14:53:36.748288",
     "exception": false,
     "start_time": "2021-08-10T14:53:36.660083",
     "status": "completed"
    },
    "tags": []
   },
   "outputs": [
    {
     "name": "stdout",
     "output_type": "stream",
     "text": [
      "0.6902985074626866\n"
     ]
    }
   ],
   "source": [
    "knn = KNeighborsClassifier()\n",
    "knn.fit(X_train, y_train)\n",
    "y_pred = knn.predict(X_test)\n",
    "print(accuracy_score(y_test,y_pred))"
   ]
  },
  {
   "cell_type": "markdown",
   "id": "6a3031e4",
   "metadata": {
    "papermill": {
     "duration": 0.061056,
     "end_time": "2021-08-10T14:53:36.870702",
     "exception": false,
     "start_time": "2021-08-10T14:53:36.809646",
     "status": "completed"
    },
    "tags": []
   },
   "source": [
    "El modelo con los mejores resultado es el RandomForest, por tanto calcularemos las predicciones con éste modelo:"
   ]
  },
  {
   "cell_type": "code",
   "execution_count": 45,
   "id": "42b81319",
   "metadata": {
    "papermill": {
     "duration": 0.09334,
     "end_time": "2021-08-10T14:53:37.027075",
     "exception": false,
     "start_time": "2021-08-10T14:53:36.933735",
     "status": "completed"
    },
    "tags": []
   },
   "outputs": [
    {
     "name": "stdout",
     "output_type": "stream",
     "text": [
      "Your submission was successfully saved!\n"
     ]
    }
   ],
   "source": [
    "predicciones = rf.predict(ds_test[features])\n",
    "\n",
    "#probabilidades = rf.predict_proba(ds_test[features])\n",
    "#output = pd.DataFrame({'PassengerId': ds_test.PassengerId, 'Prediccion': predicciones, 'Probabilidad Supervivencia': probabilidades})\n",
    "\n",
    "output = pd.DataFrame({'PassengerId': ds_test.PassengerId, 'Prediccion': predicciones})\n",
    "output.to_csv('resultado_prediccion.csv', index=False)\n",
    "print(\"Your submission was successfully saved!\")"
   ]
  },
  {
   "cell_type": "code",
   "execution_count": null,
   "id": "807ca980-e76f-4520-9bf4-e27cda4382fb",
   "metadata": {},
   "outputs": [],
   "source": []
  }
 ],
 "metadata": {
  "kernelspec": {
   "display_name": "Python 3 (ipykernel)",
   "language": "python",
   "name": "python3"
  },
  "language_info": {
   "codemirror_mode": {
    "name": "ipython",
    "version": 3
   },
   "file_extension": ".py",
   "mimetype": "text/x-python",
   "name": "python",
   "nbconvert_exporter": "python",
   "pygments_lexer": "ipython3",
   "version": "3.10.9"
  },
  "papermill": {
   "default_parameters": {},
   "duration": 21.75828,
   "end_time": "2021-08-10T14:53:38.991441",
   "environment_variables": {},
   "exception": null,
   "input_path": "__notebook__.ipynb",
   "output_path": "__notebook__.ipynb",
   "parameters": {},
   "start_time": "2021-08-10T14:53:17.233161",
   "version": "2.3.3"
  }
 },
 "nbformat": 4,
 "nbformat_minor": 5
}
